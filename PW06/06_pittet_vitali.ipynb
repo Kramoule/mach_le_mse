{
 "cells": [
  {
   "cell_type": "markdown",
   "metadata": {},
   "source": [
    "# Practical Work 6 - Logistic Regression\n",
    "\n",
    "## Students\n",
    "- Flavia Pittet\n",
    "- Fabio Vitali\n"
   ]
  },
  {
   "cell_type": "code",
   "execution_count": 1,
   "metadata": {},
   "outputs": [],
   "source": [
    "import pandas as pd\n",
    "import numpy as np\n",
    "import matplotlib.pyplot as plt"
   ]
  },
  {
   "cell_type": "markdown",
   "metadata": {},
   "source": [
    "## Ex 1 - Classification to predict student admission"
   ]
  },
  {
   "cell_type": "markdown",
   "metadata": {},
   "source": [
    "### a. Logistic regression classifier with linear decision boundary\n",
    "\n",
    "- In a similar way as for the exercise of the previous week, read the training data from file student-dataset-train.csv. The first two columns are x1 and x2. The last column holds the class label y. Build the design matrix X Check that the shape of X is (100,3) and that the shape of y is (100,)."
   ]
  },
  {
   "cell_type": "code",
   "execution_count": 2,
   "metadata": {},
   "outputs": [],
   "source": [
    "trainSet = pd.read_csv(\"student-dataset-train.csv\", header=None)\n",
    "testSet = pd.read_csv(\"student-dataset-test.csv\", header=None)"
   ]
  },
  {
   "cell_type": "code",
   "execution_count": 3,
   "metadata": {},
   "outputs": [
    {
     "name": "stdout",
     "output_type": "stream",
     "text": [
      "shape:  (100, 3) (100,)\n"
     ]
    }
   ],
   "source": [
    "X0 = trainSet[0].values\n",
    "X1 = trainSet[1].values\n",
    "Y = trainSet[2].values\n",
    "\n",
    "X = np.ones((X0.size, 3))\n",
    "X.T[1] = X0\n",
    "X.T[2] = X1\n",
    "print(\"shape: \",X.shape, Y.shape)"
   ]
  },
  {
   "cell_type": "markdown",
   "metadata": {},
   "source": [
    "- Implement a z-norm normalization of the training set. You need to store the normalization values (µ, σ) for later as they will be needed to normalize the test set."
   ]
  },
  {
   "cell_type": "code",
   "execution_count": 4,
   "metadata": {},
   "outputs": [],
   "source": [
    "X0_avg = X0.mean()\n",
    "X0_std = X0.std()\n",
    "X1_avg = X1.mean()\n",
    "X1_std = X1.std()\n",
    "\n",
    "X0_norm = (X0 - X0_avg) / X0_std\n",
    "X1_norm = (X1 - X1_avg) / X1_std\n",
    "\n",
    "X_norm = np.ones_like(X)\n",
    "X_norm.T[1] = X0_norm\n",
    "X_norm.T[2] = X1_norm"
   ]
  },
  {
   "cell_type": "markdown",
   "metadata": {},
   "source": [
    "- Implement a sigmoid function g(z) and plot it"
   ]
  },
  {
   "cell_type": "code",
   "execution_count": 5,
   "metadata": {},
   "outputs": [],
   "source": [
    "def g(z):\n",
    "    return 1/(1+np.exp(-z))"
   ]
  },
  {
   "cell_type": "code",
   "execution_count": 6,
   "metadata": {
    "scrolled": true
   },
   "outputs": [
    {
     "data": {
      "text/plain": [
       "[<matplotlib.lines.Line2D at 0x7f10a5c769e8>]"
      ]
     },
     "execution_count": 6,
     "metadata": {},
     "output_type": "execute_result"
    },
    {
     "data": {
      "image/png": "[encoded data removed]",
      "text/plain": [
       "<Figure size 432x288 with 1 Axes>"
      ]
     },
     "metadata": {},
     "output_type": "display_data"
    }
   ],
   "source": [
    "plt.plot(np.arange(-10,10,0.1), g(np.arange(-10,10,0.1)))"
   ]
  },
  {
   "cell_type": "markdown",
   "metadata": {},
   "source": [
    "- Implement the hypothesis function h(x)"
   ]
  },
  {
   "cell_type": "code",
   "execution_count": 7,
   "metadata": {},
   "outputs": [],
   "source": [
    "def hypothesis(X,theta):\n",
    "    return g(X.dot(theta.T))  "
   ]
  },
  {
   "cell_type": "markdown",
   "metadata": {},
   "source": [
    "- Implement the objective function J"
   ]
  },
  {
   "cell_type": "code",
   "execution_count": 8,
   "metadata": {},
   "outputs": [],
   "source": [
    "def objective(X,y,theta):\n",
    "    epsilon = 1e-6\n",
    "    h = hypothesis(X,theta) \n",
    "    N = X.shape[0]\n",
    "    tmp = y * np.log(h + epsilon) + (1-y) * np.log(1 - h + epsilon)\n",
    "    return tmp.sum()/N"
   ]
  },
  {
   "cell_type": "markdown",
   "metadata": {},
   "source": [
    "- Implement the gradient ascent"
   ]
  },
  {
   "cell_type": "code",
   "execution_count": 9,
   "metadata": {},
   "outputs": [],
   "source": [
    "def gradientAscent(X,y, learning_rate, num_epoch):\n",
    "    N = X.shape[0]      # number of sample\n",
    "    D = X.shape[1]      # number of dimensions\n",
    "    theta = np.zeros(D)  # init thetas to some values\n",
    "    \n",
    "    J = []\n",
    "    for i in range(0,num_epoch):\n",
    "        h = hypothesis(X, theta)  #N dimension\n",
    "        loss = y-h                    #N dimension\n",
    "        gradient = X.T.dot(loss)\n",
    "        theta = theta + learning_rate * (1.0/N) * gradient\n",
    "        J.append(objective(X,y, theta))\n",
    "    return theta, np.array(J)"
   ]
  },
  {
   "cell_type": "markdown",
   "metadata": {},
   "source": [
    "- Test your implementation and plot the evolution of the cost J"
   ]
  },
  {
   "cell_type": "code",
   "execution_count": 10,
   "metadata": {},
   "outputs": [],
   "source": [
    "theta, J = gradientAscent(X,Y, 1e-3, 2000000)"
   ]
  },
  {
   "cell_type": "code",
   "execution_count": 11,
   "metadata": {},
   "outputs": [
    {
     "data": {
      "text/plain": [
       "[<matplotlib.lines.Line2D at 0x7f10a5b98e80>]"
      ]
     },
     "execution_count": 11,
     "metadata": {},
     "output_type": "execute_result"
    },
    {
     "data": {
      "image/png": "[encoded data removed]",
      "text/plain": [
       "<Figure size 504x360 with 1 Axes>"
      ]
     },
     "metadata": {},
     "output_type": "display_data"
    }
   ],
   "source": [
    "plt.figure(figsize=(7,5))\n",
    "plt.xlabel(\"epochs\")\n",
    "plt.ylabel(\"Cost\")\n",
    "plt.plot(J)"
   ]
  },
  {
   "cell_type": "markdown",
   "metadata": {},
   "source": [
    "- Compute the correct classification rate on student-dataset-test.csv"
   ]
  },
  {
   "cell_type": "code",
   "execution_count": 12,
   "metadata": {},
   "outputs": [],
   "source": [
    "# Testing model's performance \n",
    "\n",
    "def test_perf(y_hat, y):\n",
    "    correct = 0\n",
    "    for yh, y in zip(y_hat,y):\n",
    "        if yh == y:\n",
    "            correct += 1\n",
    "    return correct, len(y_hat) - correct\n"
   ]
  },
  {
   "cell_type": "code",
   "execution_count": 13,
   "metadata": {},
   "outputs": [
    {
     "name": "stdout",
     "output_type": "stream",
     "text": [
      "89 11\n"
     ]
    }
   ],
   "source": [
    "Xtest = np.ones_like(X)\n",
    "Xtest.T[1] = testSet[0].values\n",
    "Xtest.T[2] = testSet[1].values\n",
    "Ytest = testSet[2].values\n",
    "\n",
    "htest = hypothesis(Xtest, theta).round()\n",
    "correct, miss = test_perf(htest.round(), Ytest)\n",
    "print(correct, miss)"
   ]
  },
  {
   "cell_type": "markdown",
   "metadata": {},
   "source": [
    "- Discuss performance\n",
    "\n",
    "An error of 11% is an acceptable result considering the simplicity of the function. This result is the same as in the slides, so it's what we expected."
   ]
  },
  {
   "cell_type": "markdown",
   "metadata": {},
   "source": [
    "- Draw the decision boundary of your system on top of the scatter plot of the testing data"
   ]
  },
  {
   "cell_type": "code",
   "execution_count": 14,
   "metadata": {},
   "outputs": [
    {
     "data": {
      "text/plain": [
       "[<matplotlib.lines.Line2D at 0x7f10a5b5c320>]"
      ]
     },
     "execution_count": 14,
     "metadata": {},
     "output_type": "execute_result"
    },
    {
     "data": {
      "image/png": "[encoded data removed]",
      "text/plain": [
       "<Figure size 432x288 with 1 Axes>"
      ]
     },
     "metadata": {},
     "output_type": "display_data"
    }
   ],
   "source": [
    "plt.clf()\n",
    "plt.xlabel(\"Exam 1 score\")\n",
    "plt.ylabel(\"Exam 2 score\")\n",
    "\n",
    "plt.scatter(Xtest[:,1], Xtest[:,2], c=['r','g'])\n",
    "\n",
    "plt.plot(np.arange(Xtest[:,1].min(), 100, 0.5), \n",
    "         [-(theta[0] + theta[1] * x) / theta[2] for x in np.arange(Xtest[:,1].min(), 100, 0.5)])"
   ]
  },
  {
   "cell_type": "markdown",
   "metadata": {},
   "source": [
    "### c. Logistic regression classifier with non-linear decision boundary"
   ]
  },
  {
   "cell_type": "code",
   "execution_count": 15,
   "metadata": {},
   "outputs": [],
   "source": [
    "X2 = np.ones((X0.size, 6))\n",
    "X2.T[1] = X0\n",
    "X2.T[2] = X1\n",
    "X2.T[3] = X0**2\n",
    "X2.T[4] = X1**2\n",
    "X2.T[5] = X0*X1"
   ]
  },
  {
   "cell_type": "code",
   "execution_count": 16,
   "metadata": {},
   "outputs": [],
   "source": [
    "theta2, J2 = gradientAscent(X2,Y, 1e-3, 200000)"
   ]
  },
  {
   "cell_type": "code",
   "execution_count": 17,
   "metadata": {},
   "outputs": [
    {
     "name": "stdout",
     "output_type": "stream",
     "text": [
      "theta: [  -9.05417071 -262.64458236 -272.75776224    0.59949322    0.35345354\n",
      "    9.54473665]\n",
      "correct : 85 | missed:  15\n"
     ]
    }
   ],
   "source": [
    "print('theta:',theta2)\n",
    "\n",
    "Xtest2 = np.ones_like(X2)\n",
    "X0test = testSet[0].values\n",
    "X1test = testSet[1].values\n",
    "Xtest2.T[1] = X0test\n",
    "Xtest2.T[2] = X1test\n",
    "Xtest2.T[3] = X0test**2\n",
    "Xtest2.T[4] = X1test**2\n",
    "Xtest2.T[5] = X0test*X1test\n",
    "\n",
    "htest2 = hypothesis(Xtest2, theta2).round()\n",
    "correct, miss = test_perf(htest2, Ytest)\n",
    "print('correct :',correct,'| missed: ', miss)"
   ]
  },
  {
   "cell_type": "markdown",
   "metadata": {},
   "source": [
    "- Discuss performance"
   ]
  },
  {
   "cell_type": "markdown",
   "metadata": {},
   "source": [
    "Our guess was that a non-linear boundary would be more precise, but the results we get are the opposite. \n",
    "Most certainly, there is a mistake in our code, but we can't figure out why. The expected result should be around 95%"
   ]
  },
  {
   "cell_type": "code",
   "execution_count": 18,
   "metadata": {},
   "outputs": [
    {
     "data": {
      "text/plain": [
       "[<matplotlib.lines.Line2D at 0x7f10a5adda58>]"
      ]
     },
     "execution_count": 18,
     "metadata": {},
     "output_type": "execute_result"
    },
    {
     "data": {
      "image/png": "[encoded data removed]",
      "text/plain": [
       "<Figure size 432x288 with 1 Axes>"
      ]
     },
     "metadata": {},
     "output_type": "display_data"
    }
   ],
   "source": [
    "plt.clf()\n",
    "plt.xlabel(\"Exam 1 score\")\n",
    "plt.ylabel(\"Exam 2 score\")\n",
    "\n",
    "plt.scatter(Xtest2[:,1], Xtest2[:,2], c=['r','g'])\n",
    "plt.plot(np.arange(30, 100, 0.5), \n",
    "        [\n",
    "            - (-np.sqrt((theta2[2] + theta2[5] * x)**2 - 4 * theta2[4] * (theta2[0] + \n",
    "            x * (theta2[1] + theta2[3] * x))) + theta2[2] + theta2[5] * x) / \n",
    "            (2 * theta2[4]) \n",
    "        for x in np.arange(30, 100, 0.5)])\n"
   ]
  },
  {
   "cell_type": "markdown",
   "metadata": {},
   "source": [
    "### d. Using SciKit Learn"
   ]
  },
  {
   "cell_type": "code",
   "execution_count": 19,
   "metadata": {},
   "outputs": [],
   "source": [
    "from sklearn import linear_model"
   ]
  },
  {
   "cell_type": "code",
   "execution_count": 20,
   "metadata": {},
   "outputs": [
    {
     "data": {
      "text/plain": [
       "SGDClassifier(alpha=0.0001, average=False, class_weight=None, epsilon=0.1,\n",
       "       eta0=0.0, fit_intercept=True, l1_ratio=0.15,\n",
       "       learning_rate='optimal', loss='log', max_iter=1000000, n_iter=None,\n",
       "       n_jobs=1, penalty='l2', power_t=0.5, random_state=None,\n",
       "       shuffle=True, tol=None, verbose=0, warm_start=False)"
      ]
     },
     "execution_count": 20,
     "metadata": {},
     "output_type": "execute_result"
    }
   ],
   "source": [
    "clf = linear_model.SGDClassifier(loss='log',max_iter=1000000)\n",
    "clf.fit(X,Y)"
   ]
  },
  {
   "cell_type": "code",
   "execution_count": 21,
   "metadata": {},
   "outputs": [],
   "source": [
    "Y_hat = clf.predict(Xtest)"
   ]
  },
  {
   "cell_type": "code",
   "execution_count": 22,
   "metadata": {},
   "outputs": [
    {
     "name": "stdout",
     "output_type": "stream",
     "text": [
      "88 12\n"
     ]
    }
   ],
   "source": [
    "correct, miss = test_perf(Y_hat, Ytest)\n",
    "print(correct, miss)"
   ]
  },
  {
   "cell_type": "markdown",
   "metadata": {},
   "source": [
    "- Discuss performance\n",
    "\n",
    "  As SciKit creates a linear decision boundary, the result must be similar to what we got previously for the linear boundary, which is the case. \n"
   ]
  },
  {
   "cell_type": "code",
   "execution_count": null,
   "metadata": {},
   "outputs": [],
   "source": []
  }
 ],
 "metadata": {
  "kernelspec": {
   "display_name": "Python 3",
   "language": "python",
   "name": "python3"
  },
  "language_info": {
   "codemirror_mode": {
    "name": "ipython",
    "version": 3
   },
   "file_extension": ".py",
   "mimetype": "text/x-python",
   "name": "python",
   "nbconvert_exporter": "python",
   "pygments_lexer": "ipython3",
   "version": "3.6.5"
  }
 },
 "nbformat": 4,
 "nbformat_minor": 2
}
