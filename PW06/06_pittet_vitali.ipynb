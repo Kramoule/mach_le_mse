{
 "cells": [
  {
   "cell_type": "markdown",
   "metadata": {},
   "source": [
    "# Practical Work 6 - Logistic Regression\n",
    "\n",
    "## Students\n",
    "- Flavia Pittet\n",
    "- Fabio Vitali\n"
   ]
  },
  {
   "cell_type": "code",
   "execution_count": 1,
   "metadata": {},
   "outputs": [],
   "source": [
    "import pandas as pd\n",
    "import numpy as np\n",
    "import matplotlib.pyplot as plt"
   ]
  },
  {
   "cell_type": "markdown",
   "metadata": {},
   "source": [
    "## Ex 1 - Classification to predict student admission"
   ]
  },
  {
   "cell_type": "markdown",
   "metadata": {},
   "source": [
    "### a. Logistic regression classifier with linear decision boundary\n",
    "\n",
    "- In a similar way as for the exercise of the previous week, read the training data from file student-dataset-train.csv. The first two columns are x1 and x2. The last column holds the class label y. Build the design matrix X Check that the shape of X is (100,3) and that the shape of y is (100,)."
   ]
  },
  {
   "cell_type": "code",
   "execution_count": 2,
   "metadata": {},
   "outputs": [],
   "source": [
    "trainSet = pd.read_csv(\"student-dataset-train.csv\", header=None)\n",
    "testSet = pd.read_csv(\"student-dataset-test.csv\", header=None)"
   ]
  },
  {
   "cell_type": "code",
   "execution_count": 3,
   "metadata": {},
   "outputs": [
    {
     "name": "stdout",
     "output_type": "stream",
     "text": [
      "shape:  (100, 3) (100,)\n"
     ]
    }
   ],
   "source": [
    "X0 = trainSet[0].values\n",
    "X1 = trainSet[1].values\n",
    "Y = trainSet[2].values\n",
    "\n",
    "X = np.ones((X0.size, 3))\n",
    "X.T[1] = X0\n",
    "X.T[2] = X1\n",
    "print(\"shape: \",X.shape, Y.shape)"
   ]
  },
  {
   "cell_type": "markdown",
   "metadata": {},
   "source": [
    "- Implement a z-norm normalization of the training set. You need to store the normalization values (µ, σ) for later as they will be needed to normalize the test set."
   ]
  },
  {
   "cell_type": "code",
   "execution_count": 4,
   "metadata": {},
   "outputs": [],
   "source": [
    "X0_avg = X0.mean()\n",
    "X0_std = X0.std()\n",
    "X1_avg = X1.mean()\n",
    "X1_std = X1.std()\n",
    "\n",
    "X0_norm = (X0 - X0_avg) / X0_std\n",
    "X1_norm = (X1 - X1_avg) / X1_std\n",
    "\n",
    "X_norm = np.ones_like(X)\n",
    "X_norm.T[1] = X0_norm\n",
    "X_norm.T[2] = X1_norm"
   ]
  },
  {
   "cell_type": "markdown",
   "metadata": {},
   "source": [
    "- Implement a sigmoid function g(z) and plot it"
   ]
  },
  {
   "cell_type": "code",
   "execution_count": 5,
   "metadata": {},
   "outputs": [],
   "source": [
    "def g(z):\n",
    "    return 1/(1+np.exp(-z))"
   ]
  },
  {
   "cell_type": "code",
   "execution_count": 6,
   "metadata": {
    "scrolled": true
   },
   "outputs": [
    {
     "data": {
      "text/plain": [
       "[<matplotlib.lines.Line2D at 0x8cc7240>]"
      ]
     },
     "execution_count": 6,
     "metadata": {},
     "output_type": "execute_result"
    },
    {
     "data": {
      "image/png": "[encoded data removed]",
      "text/plain": [
       "<Figure size 432x288 with 1 Axes>"
      ]
     },
     "metadata": {},
     "output_type": "display_data"
    }
   ],
   "source": [
    "plt.plot(np.arange(-10,10,0.1), g(np.arange(-10,10,0.1)))"
   ]
  },
  {
   "cell_type": "markdown",
   "metadata": {},
   "source": [
    "- Implement the hypothesis function h(x)"
   ]
  },
  {
   "cell_type": "code",
   "execution_count": 7,
   "metadata": {},
   "outputs": [],
   "source": [
    "def hypothesis(X,theta):\n",
    "    return g(X.dot(theta.T))  "
   ]
  },
  {
   "cell_type": "markdown",
   "metadata": {},
   "source": [
    "- Implement the objective function J"
   ]
  },
  {
   "cell_type": "code",
   "execution_count": 8,
   "metadata": {},
   "outputs": [],
   "source": [
    "def objective(X,y,theta):\n",
    "    epsilon = 1e-6\n",
    "    h = hypothesis(X,theta) \n",
    "    N = X.shape[0]\n",
    "    tmp = y * np.log(h + epsilon) + (1-y) * np.log(1 - h + epsilon)\n",
    "    return tmp.sum()/N"
   ]
  },
  {
   "cell_type": "markdown",
   "metadata": {},
   "source": [
    "- Implement the gradient ascent"
   ]
  },
  {
   "cell_type": "code",
   "execution_count": 9,
   "metadata": {},
   "outputs": [],
   "source": [
    "def gradientAscent(X,y, learning_rate, num_epoch):\n",
    "    N = X.shape[0]      # number of sample\n",
    "    D = X.shape[1]      # number of dimensions\n",
    "    theta = np.zeros(D)  # init thetas to some values\n",
    "    \n",
    "    J = []\n",
    "    for i in range(0,num_epoch):\n",
    "        h = hypothesis(X, theta)  #N dimension\n",
    "        loss = y-h                    #N dimension\n",
    "        gradient = X.T.dot(loss)\n",
    "        theta = theta + learning_rate * (1.0/N) * gradient\n",
    "        J.append(objective(X,y, theta))\n",
    "    return theta, np.array(J)"
   ]
  },
  {
   "cell_type": "markdown",
   "metadata": {},
   "source": [
    "- Test your implementation and plot the evolution of the cost J"
   ]
  },
  {
   "cell_type": "code",
   "execution_count": 10,
   "metadata": {},
   "outputs": [],
   "source": [
    "theta, J = gradientAscent(X,Y, 1e-3, 2000000)"
   ]
  },
  {
   "cell_type": "code",
   "execution_count": 11,
   "metadata": {},
   "outputs": [
    {
     "data": {
      "text/plain": [
       "[<matplotlib.lines.Line2D at 0x8fc56d8>]"
      ]
     },
     "execution_count": 11,
     "metadata": {},
     "output_type": "execute_result"
    },
    {
     "data": {
      "image/png": "[encoded data removed]",
      "text/plain": [
       "<Figure size 504x360 with 1 Axes>"
      ]
     },
     "metadata": {},
     "output_type": "display_data"
    }
   ],
   "source": [
    "plt.figure(figsize=(7,5))\n",
    "plt.xlabel(\"epochs\")\n",
    "plt.ylabel(\"Cost\")\n",
    "plt.plot(J)"
   ]
  },
  {
   "cell_type": "code",
   "execution_count": 12,
   "metadata": {},
   "outputs": [
    {
     "name": "stdout",
     "output_type": "stream",
     "text": [
      "89 11\n"
     ]
    }
   ],
   "source": [
    "# Test with the training set\n",
    "test = hypothesis(X, theta)\n",
    "correct = 0\n",
    "for yc, y in zip(test.round(),Y):\n",
    "    if yc == y:\n",
    "        correct += 1\n",
    "        \n",
    "print(correct, len(test) - correct)"
   ]
  }
 ],
 "metadata": {
  "kernelspec": {
   "display_name": "Python 3",
   "language": "python",
   "name": "python3"
  },
  "language_info": {
   "codemirror_mode": {
    "name": "ipython",
    "version": 3
   },
   "file_extension": ".py",
   "mimetype": "text/x-python",
   "name": "python",
   "nbconvert_exporter": "python",
   "pygments_lexer": "ipython3",
   "version": "3.6.5"
  }
 },
 "nbformat": 4,
 "nbformat_minor": 2
}
