{
 "cells": [
  {
   "cell_type": "markdown",
   "metadata": {},
   "source": [
    "# Practical Work 6\n",
    "\n",
    "## Students\n",
    "- Flavia Pittet\n",
    "- Fabio Vitali\n"
   ]
  },
  {
   "cell_type": "code",
   "execution_count": 1,
   "metadata": {},
   "outputs": [],
   "source": [
    "import pandas as pd\n",
    "import numpy as np\n",
    "import matplotlib.pyplot as plt"
   ]
  },
  {
   "cell_type": "markdown",
   "metadata": {},
   "source": [
    "## Ex1"
   ]
  },
  {
   "cell_type": "markdown",
   "metadata": {},
   "source": [
    "### a) Build the X Matrix"
   ]
  },
  {
   "cell_type": "code",
   "execution_count": 2,
   "metadata": {},
   "outputs": [],
   "source": [
    "trainSet = pd.read_csv(\"student-dataset-train.csv\", header=None)\n",
    "testSet = pd.read_csv(\"student-dataset-test.csv\", header=None)"
   ]
  },
  {
   "cell_type": "code",
   "execution_count": 3,
   "metadata": {},
   "outputs": [
    {
     "name": "stdout",
     "output_type": "stream",
     "text": [
      "(100, 3) (100,)\n"
     ]
    }
   ],
   "source": [
    "X0 = trainSet[0].values\n",
    "X1 = trainSet[1].values\n",
    "Y = trainSet[2].values\n",
    "\n",
    "X = np.ones((X0.size, 3))\n",
    "X.T[1] = X0\n",
    "X.T[2] = X1\n",
    "print(X.shape, Y.shape)"
   ]
  },
  {
   "cell_type": "code",
   "execution_count": 4,
   "metadata": {},
   "outputs": [],
   "source": [
    "X0_avg = X0.mean()\n",
    "X0_std = X0.std()\n",
    "X1_avg = X1.mean()\n",
    "X1_std = X1.std()\n",
    "\n",
    "X0_norm = (X0 - X0_avg) / X0_std\n",
    "X1_norm = (X1 - X1_avg) / X1_std\n"
   ]
  },
  {
   "cell_type": "code",
   "execution_count": 5,
   "metadata": {},
   "outputs": [],
   "source": [
    "def g(z):\n",
    "    return 1/(1+np.exp(-z))"
   ]
  },
  {
   "cell_type": "code",
   "execution_count": 6,
   "metadata": {},
   "outputs": [
    {
     "data": {
      "text/plain": [
       "[<matplotlib.lines.Line2D at 0x7f0d9e9589b0>]"
      ]
     },
     "execution_count": 6,
     "metadata": {},
     "output_type": "execute_result"
    },
    {
     "data": {
      "image/png": "[encoded data removed]",
      "text/plain": [
       "<Figure size 432x288 with 1 Axes>"
      ]
     },
     "metadata": {},
     "output_type": "display_data"
    }
   ],
   "source": [
    "plt.plot(g(np.arange(-10,10,0.1)))"
   ]
  },
  {
   "cell_type": "code",
   "execution_count": 8,
   "metadata": {},
   "outputs": [],
   "source": [
    "def gradientDescent(X,y, learning_rate, num_epoch):\n",
    "    N = X.shape[0]      # number of sample\n",
    "    D = X.shape[1]      # number of dimensions\n",
    "    theta = np.ones(D)  # init thetas to some values\n",
    "    X_trans = X.transpose() # X_trans is DxN\n",
    "    \n",
    "    for i in range(0,num_epoch):\n",
    "        h = hypothesis(theta,X_trans)  #N dimension\n",
    "        loss = h-y                     #N dimension\n",
    "        gradient = X_trans.dot(loss) * (1.0/N)  \n",
    "        theta = theta - learning_rate * (1.0/N) * gradient\n",
    "    return theta"
   ]
  },
  {
   "cell_type": "code",
   "execution_count": null,
   "metadata": {},
   "outputs": [],
   "source": [
    "def hypothesis(X,theta):\n",
    "    pass "
   ]
  },
  {
   "cell_type": "code",
   "execution_count": 9,
   "metadata": {},
   "outputs": [],
   "source": [
    "def objective(X,y,theta):\n",
    "    epsilon = 1e-6\n",
    "    h = hypothesis(X,theta) \n",
    "    N = X.shape[0]\n",
    "    tmp = y * np.log(h + epsilon) + (1-y) * np.log(1 - h + epsilon)\n",
    "    return tmp.sum()/N"
   ]
  },
  {
   "cell_type": "code",
   "execution_count": null,
   "metadata": {},
   "outputs": [],
   "source": []
  }
 ],
 "metadata": {
  "kernelspec": {
   "display_name": "Python 3",
   "language": "python",
   "name": "python3"
  },
  "language_info": {
   "codemirror_mode": {
    "name": "ipython",
    "version": 3
   },
   "file_extension": ".py",
   "mimetype": "text/x-python",
   "name": "python",
   "nbconvert_exporter": "python",
   "pygments_lexer": "ipython3",
   "version": "3.6.5"
  }
 },
 "nbformat": 4,
 "nbformat_minor": 2
}
