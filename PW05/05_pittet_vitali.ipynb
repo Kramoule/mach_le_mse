{
 "cells": [
  {
   "cell_type": "markdown",
   "metadata": {},
   "source": [
    "# Practical Work 5\n",
    "\n",
    "## Students\n",
    "- Flavia Pittet\n",
    "- Fabio Vitali\n",
    "\n",
    "## Ex1 - Gradient descent using matrix calculation"
   ]
  },
  {
   "cell_type": "code",
   "execution_count": 2,
   "metadata": {},
   "outputs": [],
   "source": [
    "def hypothesis(theta,X):  #theta = 1xD, X = DxN, output 1xN\n",
    "    return np.dot(theta,X)\n",
    "\n",
    "def gradientDescent(X,y,learning_rate,num_epoch,verbose=False):\n",
    "    N = X.shape[0]      # number of sample\n",
    "    D = X.shape[1]      # number of dimensions\n",
    "    theta = np.ones(D)  # init thetas to some values\n",
    "    X_trans = X.transpose() # X_trans is DxN\n",
    "    \n",
    "    for i in range(0,num_epoch):\n",
    "        h = hypothesis(theta,X_trans)  #N dimension\n",
    "        loss = h-y                     #N dimension\n",
    "        gradient = X_trans.dot(loss) * (1.0/N)  \n",
    "        theta = theta - learning_rate * (1.0/N) * gradient\n",
    "    return theta"
   ]
  },
  {
   "cell_type": "markdown",
   "metadata": {},
   "source": [
    "a) Analyse the code above. It relies on matrix calculation. What type of gradient descent\n",
    "does it implement ? Are you confident it is a correct implementation?\n",
    "\n"
   ]
  },
  {
   "cell_type": "code",
   "execution_count": null,
   "metadata": {},
   "outputs": [],
   "source": []
  },
  {
   "cell_type": "code",
   "execution_count": null,
   "metadata": {},
   "outputs": [],
   "source": []
  }
 ],
 "metadata": {
  "kernelspec": {
   "display_name": "Python 3",
   "language": "python",
   "name": "python3"
  },
  "language_info": {
   "codemirror_mode": {
    "name": "ipython",
    "version": 3
   },
   "file_extension": ".py",
   "mimetype": "text/x-python",
   "name": "python",
   "nbconvert_exporter": "python",
   "pygments_lexer": "ipython3",
   "version": "3.6.5"
  }
 },
 "nbformat": 4,
 "nbformat_minor": 2
}
