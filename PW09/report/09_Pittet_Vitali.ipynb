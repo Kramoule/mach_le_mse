{
 "cells": [
  {
   "cell_type": "markdown",
   "metadata": {},
   "source": [
    "# Practical work 09\n",
    "\n",
    "## Students\n",
    "- Flavia Pittet\n",
    "- Fabio Vitali"
   ]
  },
  {
   "cell_type": "markdown",
   "metadata": {},
   "source": [
    "## 1. activation_function.ipynb \n",
    "\n",
    "Implementation of the ReLu activation function (source code) + example of visualization\n",
    "\n",
    "- Observe the shape of the different activation functions proposed.\n",
    "\n",
    "- Observe the effects of modifying the weight. How the shape of the function changes? How the first derivative changes?\n",
    "\n",
    "- Implement the activation function of a rectified Linear Unit (ReLU)\n",
    "\n",
    "$$ f(x) = \\left \\{\n",
    "\\begin{array}{rcl}\n",
    "\t0 & \\mbox{for} & x < 0\\\\\n",
    "\tx & \\mbox{for} & x \\ge 0\n",
    "\\end{array} \\right.\n",
    "\\hspace{1cm}\n",
    "f'(x) = \\left \\{\n",
    "\\begin{array}{rcl}\n",
    "\t0 & \\mbox{for} & x < 0\\\\\n",
    "\t1 & \\mbox{for} & x \\ge 0\n",
    "\\end{array} \\right.\n",
    "$$\n",
    "\n"
   ]
  },
  {
   "cell_type": "code",
   "execution_count": 1,
   "metadata": {},
   "outputs": [],
   "source": [
    "import numpy as np\n",
    "import matplotlib.pyplot as pl\n",
    "from ipywidgets import interact, widgets\n",
    "\n",
    "%matplotlib inline\n",
    "\n",
    "def relu(neta):\n",
    "    output = np.maximum(neta, 0)\n",
    "    d_output = np.greater_equal(neta, np.zeros(len(neta))).astype(np.float)\n",
    "    return (output, d_output)\n",
    "\n",
    "input_values = np.arange(-10, 10, 0.05)\n",
    "\n",
    "def plot_activation_function(activation_function_index, weight):\n",
    "    neta = weight * input_values\n",
    "    \n",
    "    activation_function = relu\n",
    "    output_value, d_output_value = activation_function(neta)\n",
    "    \n",
    "    pl.figure(figsize=(8,6))\n",
    "    pl.plot(input_values, output_value, c='b', label='output')\n",
    "    pl.plot(input_values, weight * d_output_value, c='r', label='first derivative')\n",
    "    pl.xlabel('Input value')\n",
    "    pl.ylabel('Output value')\n",
    "    pl.ylim(-1.1, 1.1)\n",
    "    pl.legend(loc=4)\n",
    "    pl.grid()\n",
    "    "
   ]
  },
  {
   "cell_type": "markdown",
   "metadata": {},
   "source": [
    "- Visualize the ReLu activation function using the tools given in this notebook"
   ]
  },
  {
   "cell_type": "code",
   "execution_count": 2,
   "metadata": {},
   "outputs": [
    {
     "data": {
      "image/png": "[encoded data removed]",
      "text/plain": [
       "<Figure size 576x432 with 1 Axes>"
      ]
     },
     "metadata": {},
     "output_type": "display_data"
    }
   ],
   "source": [
    "plot_activation_function(0, 0.45)"
   ]
  },
  {
   "cell_type": "markdown",
   "metadata": {},
   "source": [
    "## 4. delta_rule.ipynb\n",
    "\n",
    "You are free to modify the learning rate (ALPHA) and the number of iterations (NUMBER_OF_EPOCHS).\n",
    "\n",
    "Try different 2D classification problems and observe the behaviour of the algorithm in terms of:\n",
    "- Learning rate needed\n",
    "- Convergence speed\n",
    "- Oscillations\n",
    "\n",
    "Bare in mind that, in the current implementation, the parameters (weights and bias) are initialized randomly every time you launch the cell.\n",
    "\n",
    "Create dataset as shown and perform the following tests:\n",
    "\n",
    "1. What happens if the boundaries between both classes are well defined?\n",
    "    - The perceptron error gets very close to zero and very fast.\n",
    "![linear_defined_boundries.png](img/4_delta_rule-2018-11-26(0).png)\n",
    "2. What happens if the classes overlap? What could you say about oscillations in the error signal?\n",
    "    - It keeps adjusting until it finds a good match, but it's not too close to zero because it's impossible to delimitate them perfectly with a linear system.\n",
    "![Screenshot%20from%202017-11-21%2015-35-22.png](img/4_delta_rule-2018-11-26(1).png)\n",
    "3. What happens if it is not possible to separate the classes with a single line? What could you say about local minima?\n",
    "    - Given that we're trying to use a linear function, it's impossible to get a \"good\" error rate. We find a different local minima each time we perform the tests because of the inital random values. The result is always excluding one cluster of points\n",
    "\n",
    "**First try**\n",
    "\n",
    "![Screenshot%20from%202017-11-21%2015-38-30.png](img/4_delta_rule-2018-11-26(2).png)\n",
    "\n",
    "**Second try**\n",
    "\n",
    "![Screenshot%20from%202017-11-21%2016-22-38.png](img/4_delta_rule-2018-11-26(3).png)"
   ]
  },
  {
   "cell_type": "markdown",
   "metadata": {},
   "source": [
    "## 5 Backpropagation\n",
    "\n",
    "You are free to modify the learning rate (ALPHA) and the number of iterations (NUMBER_OF_EPOCHS).\n",
    "\n",
    "Try different 2D classification problems and observe the behaviour of the algorithm in terms of:\n",
    "- Learning rate needed\n",
    "- Convergence speed\n",
    "- Oscillations\n",
    "\n",
    "Bare in mind that, in the current implementation, the parameters (weights and bias) are initialized randomly every time you launch the cell\n",
    "\n",
    "1. What happens if the boundaries between both classes are well defined?\n",
    "    - The error rate is close to 0.\n",
    "![Screenshot%20from%202017-11-21%2016-31-29.png](img/5_backprop(0).png)\n",
    "2. What happens if the classes overlap? What could you say about oscillations in the error signal?\n",
    "    - It adjusts until if finds the right fit, we didn't notice a lot of oscilliations because we have the same amount of  red  points in the blue section and blue in the red section. In order to get more oscilliations, we need to up the EPOCH and have more distributed points.\n",
    "![Screenshot%20from%202017-11-21%2016-35-20.png](img/5_backprop(1).png)\n",
    "3. What happens if it is not possible to separate the classes with a single line? What could you say about local minima\n",
    "    - This time, the system manages to get it right. The local minima isn't a defining factor and works each time we excecute the code.\n",
    "![Screenshot%20from%202017-11-21%2016-38-46.png](img/5_backprop(2).png)\n",
    "4. What happens if the points of one of the classes are separated in subgroups (blobs)?\n",
    "    - Nothing special happens, the system gets an error rate very close to zero.\n",
    "![Screenshot%20from%202017-11-21%2016-41-30.png](img/5_backprop(3).png)"
   ]
  },
  {
   "cell_type": "markdown",
   "metadata": {},
   "source": [
    "## 6. Backpropagation and the MLP\n",
    "\n",
    "Modify the class MLP provided in this notebook to include the momentum term in the function `fit`:\n",
    "\n",
    "~~~\n",
    "fit(self, X, y, learning_rate=0.1, momentum=0.5, epochs=100):\n",
    "~~~\n",
    "\n",
    "Modify the behaviour of the function accordingly. Use the `momentum` constant to modulate the previous Δw which has to be added to the current Δw.\n",
    "\n",
    "Save the resulting code in a file named `mlp_backprop_momentum.py`. This file will be used in the next laboratory.\n",
    "\n",
    "__See file *mlp_backprop_momentum.py*__"
   ]
  },
  {
   "cell_type": "markdown",
   "metadata": {},
   "source": [
    "## 7-8. Crossvalidation\n",
    "\n",
    "Run notebooks 7 and 8, provide the final plots MSE vs spread and comment the difference between results\n",
    "\n",
    "    - The K-fold cross validation return more precise results than the hold-out validation.\n",
    "\n",
    "**Hold-out validation**\n",
    "![hold_out_validation.png](img/7_hold_out_validation.png)\n",
    "\n",
    "**K-fold cross validation**\n",
    "![cross_Validation.png](img/8_cross_Validation.png)"
   ]
  },
  {
   "attachments": {},
   "cell_type": "markdown",
   "metadata": {},
   "source": [
    "## 9. Model building\n",
    "\n",
    "Run notebook 9 for three different spread values (e.g., 0.3, 0.5 and 0.7), describe the final model chosen and justify your selection (e.g., based on the plots of MSE vs parameters)\n",
    "\n",
    "    - The results show that with more than 4 hidden neurons, the test error doesn't change really much, whatever the spread is. The best model would be then the one with 4 hidden neurons. \n",
    "\n",
    "### Spread 0.3\n",
    "\n",
    "![03.png](img/9_MSE-Spread03.png)\n",
    "\n",
    "### Spread 0.5\n",
    "\n",
    "![05.png](img/9_MSE-Spread05.png)\n",
    "\n",
    "### Spread 0.7\n",
    "\n",
    "![07.jpeg](img/9_MSE-Spread07.png)\n"
   ]
  }
 ],
 "metadata": {
  "kernelspec": {
   "display_name": "Python 3",
   "language": "python",
   "name": "python3"
  },
  "language_info": {
   "codemirror_mode": {
    "name": "ipython",
    "version": 3
   },
   "file_extension": ".py",
   "mimetype": "text/x-python",
   "name": "python",
   "nbconvert_exporter": "python",
   "pygments_lexer": "ipython3",
   "version": "3.6.5"
  }
 },
 "nbformat": 4,
 "nbformat_minor": 2
}
