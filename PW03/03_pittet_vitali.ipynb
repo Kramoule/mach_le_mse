{
 "cells": [
  {
   "cell_type": "markdown",
   "metadata": {},
   "source": [
    "# Practical Work 3 Classification with Bayes - System Evaluation\n",
    "## Students\n",
    "- Flavia Pittet\n",
    "- Fabio Vitali\n",
    "\n",
    "## Exercice 1 Classification system using Bayes\n",
    "### a. Bayes - Histograms\n",
    "Implement a classifier based on Bayes using histograms to estimate the likelihoods.\n",
    "\n",
    "a) Read the training data from file ex1-data-train.csv. The first two columns are x1 and\n",
    "x2. The last column holds the class label y.\n",
    "\n",
    "b) Compute the priors of both classes P(C0) and P(C1).\n",
    "\n",
    "c) Compute histograms of x1 and x2 for each class (total of 4 histograms). Plot these\n",
    "histograms. Advice : use the numpy histogram(a,bins=’auto’) function."
   ]
  },
  {
   "cell_type": "code",
   "execution_count": 1,
   "metadata": {},
   "outputs": [
    {
     "name": "stdout",
     "output_type": "stream",
     "text": [
      "pass rate = 0.6\n",
      "fail rate = 0.4\n",
      "[ 3  5  9  9 16  9  9] [40.45755098 48.93902339 57.42049579 65.90196819 74.38344059 82.86491299\n",
      " 91.3463854  99.8278578 ]\n"
     ]
    },
    {
     "data": {
      "text/plain": [
       "Text(0.5,1,'x2 Grade Fail')"
      ]
     },
     "execution_count": 1,
     "metadata": {},
     "output_type": "execute_result"
    },
    {
     "data": {
      "image/png": "[encoded data removed]",
      "text/plain": [
       "<Figure size 1080x1080 with 4 Axes>"
      ]
     },
     "metadata": {},
     "output_type": "display_data"
    }
   ],
   "source": [
    "# basic imports\n",
    "import pandas as pd\n",
    "from sklearn.metrics import confusion_matrix\n",
    "import matplotlib.pyplot as plt\n",
    "import numpy as np\n",
    "import random\n",
    "from mpl_toolkits.mplot3d import Axes3D\n",
    "%matplotlib inline\n",
    "\n",
    "# a) read data\n",
    "trainingset = pd.read_csv('data/ex1-data-train.csv',  names=['grade1', 'grade2', 'pass'])\n",
    "x1 = trainingset['grade1'].values\n",
    "x2 = trainingset['grade2'].values\n",
    "y = trainingset['pass'].values\n",
    "trainset = list(zip(x1, x2, y))\n",
    "\n",
    "testset = pd.read_csv('data/ex1-data-test.csv',  names=['grade1', 'grade2', 'pass'])\n",
    "testx1 = testset['grade1'].values\n",
    "testx2 = testset['grade2'].values\n",
    "testy = testset['pass'].values\n",
    "\n",
    "testset = list(zip(testx1, testx2, testy))\n",
    "\n",
    "## b) compute priors\n",
    "priorCpass = sum([1 for x1, x2, y in trainset if y])/len(trainset)\n",
    "\n",
    "\n",
    "priorCfail = 1 - priorCpass\n",
    "\n",
    "print('pass rate = {}\\nfail rate = {}'.format(priorCpass, priorCfail))\n",
    "## c) histogram\n",
    "#[x for x,_,_ in trainset]\n",
    "#[y for _,_,y in trainset]\n",
    "fig = plt.figure(figsize=(15,15))\n",
    "\n",
    "\n",
    "pltx1Success = fig.add_subplot(2, 2, 1)\n",
    "x1Success = [x for x,_,y in trainset if y]\n",
    "x1SuccessValues, x1SuccessBins = np.histogram(x1Success, bins='auto')\n",
    "pltx1Success.hist(x=x1Success, bins=x1SuccessBins, color='green')\n",
    "pltx1Success.set_title('x1 Grade Success')\n",
    "\n",
    "pltx1Fail = fig.add_subplot(2, 2, 2)\n",
    "x1Fail = [x for x,_,y in trainset if not y]\n",
    "x1FailValues, x1FailBins = np.histogram(x1Success, bins='auto')\n",
    "pltx1Fail.hist(x=x1Fail, bins=x1FailBins, color='red')\n",
    "pltx1Fail.set_title('x1 Grade Fail')\n",
    "\n",
    "print(x1SuccessValues, x1SuccessBins)\n",
    "\n",
    "pltx2Success = fig.add_subplot(2, 2, 3)\n",
    "x2Success = [x for _,x,y in trainset if y]\n",
    "x2SuccessValues, x2SuccessBins = np.histogram(x2Success, bins='auto')\n",
    "pltx2Success.hist(x=x2Success, bins=x2SuccessBins, color='green')\n",
    "pltx2Success.set_title('x2 Grade Success')\n",
    "\n",
    "pltx2Fail = fig.add_subplot(2, 2, 4)\n",
    "x2Fail = [x for _,x,y in trainset if not y]\n",
    "x2FailValues, x2FailBins = np.histogram(x2Success, bins='auto')\n",
    "pltx2Fail.hist(x=x2Fail, bins=x2FailBins, color='red')\n",
    "pltx2Fail.set_title('x2 Grade Fail')\n"
   ]
  },
  {
   "cell_type": "markdown",
   "metadata": {},
   "source": [
    "d) Use the histograms to compute the likelihoods p(x1|C0), p(x1|C1), p(x2|C0) and p(x2|C1).\n",
    "For this define a function likelihoodHist(x,histValues,edgeValues) that returns\n",
    "the likelihood of x for a given histogram (defined by its values and bin edges as returned\n",
    "by the numpy histogram() function)."
   ]
  },
  {
   "cell_type": "code",
   "execution_count": 2,
   "metadata": {},
   "outputs": [],
   "source": [
    "def likelihoodHist(x,histValues,edgeValues):\n",
    "    i = 0\n",
    "    for i in range(len(edgeValues)):\n",
    "        if edgeValues[i] >= x:\n",
    "            break\n",
    "    if i == 0:\n",
    "        return 0\n",
    "\n",
    "    i -= 1\n",
    "    \n",
    "    return histValues[i] / sum(histValues)"
   ]
  },
  {
   "cell_type": "markdown",
   "metadata": {},
   "source": [
    "e) Implement the classification decision according to Bayes rule and compute the overall\n",
    "accuracy of the system on the test set ex1-data-test.csv. :\n",
    "\n",
    "- using only feature x1\n",
    "- using only feature x2\n",
    "- using x1 and x2 making the naive Bayes hypothesis of feature independence, i.e.p(X|Ck) = p(x1|Ck) · p(x2|Ck)\n",
    "\n",
    "Which system is the best ?\n",
    "\n",
    "The last one because it takes more parameters into consideration and therefore has a better success rate."
   ]
  },
  {
   "cell_type": "code",
   "execution_count": 3,
   "metadata": {},
   "outputs": [
    {
     "name": "stdout",
     "output_type": "stream",
     "text": [
      "Success rate bayes on x1        = 0.7\n",
      "Success rate bayes on x2        = 0.67\n",
      "Success rate bayes on x1 and x2 = 0.85\n"
     ]
    }
   ],
   "source": [
    "def bayes_rule_x1(x):\n",
    "    likelihoodSuccess = likelihoodHist(x, x1SuccessValues, x1SuccessBins) * priorCpass\n",
    "    likelihoodFail    = likelihoodHist(x, x1FailValues,    x1FailBins)    * priorCfail\n",
    "    return likelihoodSuccess > likelihoodFail\n",
    "\n",
    "def bayes_rule_x2(x):\n",
    "    likelihoodSuccess = likelihoodHist(x, x2SuccessValues, x2SuccessBins) * priorCpass\n",
    "    likelihoodFail    = likelihoodHist(x, x2FailValues,    x2FailBins)    * priorCfail\n",
    "    return likelihoodSuccess > likelihoodFail\n",
    "\n",
    "\n",
    "def bayes_rule(x1, x2):\n",
    "    likelihoodSuccessX1 = likelihoodHist(x1, x1SuccessValues, x1SuccessBins) * priorCpass\n",
    "    likelihoodFailX1    = likelihoodHist(x1, x1FailValues,    x1FailBins)    * priorCfail\n",
    "    likelihoodSuccessX2 = likelihoodHist(x2, x2SuccessValues, x2SuccessBins) * priorCpass\n",
    "    likelihoodFailX2    = likelihoodHist(x2, x2FailValues,    x2FailBins)    * priorCfail\n",
    "    \n",
    "    return likelihoodSuccessX1 * likelihoodSuccessX2 > likelihoodFailX1 * likelihoodFailX2\n",
    "\n",
    "\n",
    "successX1 = 0\n",
    "successX2 = 0\n",
    "successBoth = 0\n",
    "for x1, x2, y in testset:\n",
    "    \n",
    "    if bayes_rule_x1(x1) == y:\n",
    "        successX1 += 1\n",
    "    if bayes_rule_x2(x2) == y:\n",
    "        successX2 += 1\n",
    "    if bayes_rule(x1, x2) == y:\n",
    "        successBoth += 1\n",
    "\n",
    "    \n",
    "print('Success rate bayes on x1        = {}'.format(successX1/len(testset)))\n",
    "print('Success rate bayes on x2        = {}'.format(successX2/len(testset)))\n",
    "print('Success rate bayes on x1 and x2 = {}'.format(successBoth/len(testset)))"
   ]
  },
  {
   "cell_type": "markdown",
   "metadata": {},
   "source": [
    "### b. Bayes - Univariate Gaussian distribution\n",
    "Do the same as in c. but this time using univariate Gaussian distribution to model the likelihoods\n",
    "p(x1|C0), p(x1|C1), p(x2|C0) and p(x2|C1). You may use the numpy functions mean() and var()\n",
    "to compute the mean µ and variance σ2 of the distribution. To model the likelihood of both\n",
    "features, you may also do the naive Bayes hypothesis of feature independence, i.e. p(X|Ck) =\n",
    "p(x1|Ck) · p(x2|Ck)."
   ]
  },
  {
   "cell_type": "code",
   "execution_count": 4,
   "metadata": {},
   "outputs": [
    {
     "name": "stdout",
     "output_type": "stream",
     "text": [
      "Success rate Univariate Gaussian distribution on x1        = 0.71\n",
      "Success rate Univariate Gaussian distribution on x2        = 0.72\n",
      "Success rate Univariate Gaussian distribution on x1 and x2 = 0.92\n"
     ]
    },
    {
     "data": {
      "image/png": "[encoded data removed]",
      "text/plain": [
       "<Figure size 1080x1080 with 4 Axes>"
      ]
     },
     "metadata": {},
     "output_type": "display_data"
    }
   ],
   "source": [
    "x1SuccessMean = np.mean(x1Success)\n",
    "x1SuccessVar = np.var(x1Success)\n",
    "\n",
    "x1FailMean = np.mean(x1Fail)\n",
    "x1FailVar = np.var(x1Fail)\n",
    "\n",
    "x2SuccessMean = np.mean(x2Success)\n",
    "x2SuccessVar = np.var(x2Success)\n",
    "\n",
    "x2FailMean = np.mean(x2Fail)\n",
    "x2FailVar = np.var(x2Fail)\n",
    "\n",
    "def univariate_gaussian_distribution(x, mean, var):\n",
    "    v1 = (2*np.pi*var)**0.5\n",
    "    v2 = np.exp(-(x-mean)**2 / (2*var))\n",
    "\n",
    "    return v2/v1\n",
    "\n",
    "fig = plt.figure(figsize=(15,15))\n",
    "\n",
    "\n",
    "pltx1Success = fig.add_subplot(2, 2, 1)\n",
    "pltx1Success.set_title('X1 Success')\n",
    "pltx1Success.plot(range(100), [univariate_gaussian_distribution(x, x1SuccessMean, x1SuccessVar) for x in range(100)], color='green')\n",
    "\n",
    "pltx1Fail = fig.add_subplot(2, 2, 2)\n",
    "pltx1Fail.set_title('X1 Fail')\n",
    "pltx1Fail.plot(range(100), [univariate_gaussian_distribution(x, x1FailMean, x1FailVar) for x in range(100)], color='red')\n",
    "\n",
    "\n",
    "pltx2Success = fig.add_subplot(2, 2, 3)\n",
    "pltx2Success.set_title('X2 Success')\n",
    "pltx2Success.plot(range(100), [univariate_gaussian_distribution(x, x2SuccessMean, x2SuccessVar) for x in range(100)], color='green')\n",
    "\n",
    "pltx2Fail = fig.add_subplot(2, 2, 4)\n",
    "pltx2Fail.set_title('X2 Fail')\n",
    "pltx2Fail.plot(range(100), [univariate_gaussian_distribution(x, x2FailMean, x2FailVar) for x in range(100)], color='red')\n",
    "\n",
    "\n",
    "def univariate_gaussian_distribution_x1(x):\n",
    "    likelihoodSuccess = univariate_gaussian_distribution(x, x1SuccessMean, x1SuccessVar) * priorCpass\n",
    "    likelihoodFail    = univariate_gaussian_distribution(x, x1FailMean,    x1FailVar)    * priorCfail\n",
    "\n",
    "    return likelihoodSuccess > likelihoodFail\n",
    "\n",
    "def univariate_gaussian_distribution_x2(x):\n",
    "    likelihoodSuccess = univariate_gaussian_distribution(x, x2SuccessMean, x2SuccessVar) * priorCpass\n",
    "    likelihoodFail    = univariate_gaussian_distribution(x, x2FailMean,    x2FailVar)    * priorCfail\n",
    "\n",
    "    return likelihoodSuccess > likelihoodFail\n",
    "\n",
    "def univariate_gaussian_distribution_both(x1, x2):\n",
    "    likelihoodSuccessx1 = univariate_gaussian_distribution(x1, x1SuccessMean, x1SuccessVar) * priorCpass\n",
    "    likelihoodFailx1    = univariate_gaussian_distribution(x1, x1FailMean,    x1FailVar)    * priorCfail\n",
    "\n",
    "    likelihoodSuccessx2 = univariate_gaussian_distribution(x2, x2SuccessMean, x2SuccessVar) * priorCpass\n",
    "    likelihoodFailx2    = univariate_gaussian_distribution(x2, x2FailMean,    x2FailVar)    * priorCfail\n",
    "\n",
    "    return likelihoodSuccessx1 * likelihoodSuccessx2 > likelihoodFailx1 * likelihoodFailx2\n",
    "\n",
    "successX1 = 0\n",
    "successX2 = 0\n",
    "successBoth = 0\n",
    "\n",
    "for x1, x2, y in testset:\n",
    "    if univariate_gaussian_distribution_x1(x1) == y:\n",
    "        successX1 += 1\n",
    "        \n",
    "    if univariate_gaussian_distribution_x2(x2) == y:\n",
    "        successX2 += 1\n",
    "        \n",
    "    if univariate_gaussian_distribution_both(x1, x2) == y:\n",
    "        successBoth += 1\n",
    "\n",
    "print('Success rate Univariate Gaussian distribution on x1        = {}'.format(successX1/len(testset)))\n",
    "print('Success rate Univariate Gaussian distribution on x2        = {}'.format(successX2/len(testset)))\n",
    "print('Success rate Univariate Gaussian distribution on x1 and x2 = {}'.format(successBoth/len(testset)))\n",
    "    \n"
   ]
  },
  {
   "cell_type": "markdown",
   "metadata": {},
   "source": [
    "## Exercice 2 - System evaluation\n",
    "\n",
    "Let’s assume we have trained a digit classification system able to categorise images of digits\n",
    "from 0 to 9, as illustrated on Figure 2.\n",
    "\n",
    "After training, the system has been run against a test set (independent of the training set)\n",
    "including Nt = 100000 samples. The system is able to compute estimations of a posteriori.\n",
    "\n",
    "In this exercise, the columns are not labeled as their index is already representing the corresponding class (except for the last one which is the ground truth)\n",
    "\n",
    "NB: as we will be using the fashion-MNIST instead of the digits, we will assume we have trained a system that can categorise these images (also from 0 to 9)"
   ]
  },
  {
   "cell_type": "markdown",
   "metadata": {},
   "source": [
    "### a) Write a function to take classification decisions on such outputs according to Bayes’ rule\n",
    "\n",
    "According to Bayes’rule, we need to choose the class which have the highest P(Ck|x) as the predicted class"
   ]
  },
  {
   "cell_type": "code",
   "execution_count": 5,
   "metadata": {},
   "outputs": [],
   "source": [
    "def predictionFromSystem(system):\n",
    "    N = len(dataset)\n",
    "    y_pred =[]\n",
    "    for i in range(N):\n",
    "        row = predC.loc[i]\n",
    "        y_hat = row[row == max(row)].index[0] \n",
    "        y_pred.append(y_hat)\n",
    "        \n",
    "    return y_pred\n",
    "\n",
    "dataset = pd.read_csv('data/ex2-system-a.csv', sep=';', header=None, usecols=[x for x in range(11)])\n",
    "predC, y_truth = dataset.iloc[:,0:10], dataset[10]\n",
    "\n",
    "y_pred = predictionFromSystem(predC)\n",
    "\n",
    "conf_matrix = confusion_matrix(y_truth, y_pred)"
   ]
  },
  {
   "cell_type": "markdown",
   "metadata": {},
   "source": [
    "### b) What is the overall error rate of the system ?\n",
    "\n",
    "We compute the error directly from the confusion matrix"
   ]
  },
  {
   "cell_type": "code",
   "execution_count": 6,
   "metadata": {},
   "outputs": [
    {
     "name": "stdout",
     "output_type": "stream",
     "text": [
      "The error rate is 0.10729999999999995\n"
     ]
    }
   ],
   "source": [
    "def computeOverallAccuracy(matrix, N):\n",
    "    sum = 0\n",
    "    for i in range(len(matrix)):\n",
    "        sum += conf_matrix[i][i]\n",
    "\n",
    "    return sum / N\n",
    "\n",
    "overall_accuracy = computeOverallAccuracy(conf_matrix, len(predC))\n",
    "error_rate = 1 - overall_accuracy\n",
    "print(\"The error rate is {}\".format(error_rate))"
   ]
  },
  {
   "cell_type": "markdown",
   "metadata": {},
   "source": [
    "### c) Compute and report the confusion matrix of the system.\n",
    "\n",
    "As the matrix is already computed, we just need to print it"
   ]
  },
  {
   "cell_type": "code",
   "execution_count": 7,
   "metadata": {},
   "outputs": [
    {
     "name": "stdout",
     "output_type": "stream",
     "text": [
      "Confusion Matrix:\n",
      " [[ 944    0   11    0    0    2   10    7    5    1]\n",
      " [   0 1112    2    3    1    4    3    1    9    0]\n",
      " [  10    6  921   12   15    3   19   15   26    5]\n",
      " [   1    1   31  862    2   72    5   14   12   10]\n",
      " [   2    3    6    2  910    1   12    6    4   36]\n",
      " [  12    3    6   29   19  768   19    9   21    6]\n",
      " [  14    3   21    2   22   28  865    0    3    0]\n",
      " [   0   14   30    9    7    2    1  929    3   33]\n",
      " [  12   16   18   26   24   46   22   19  772   19]\n",
      " [  10    4    6   22   53   18    0   48    4  844]]\n"
     ]
    }
   ],
   "source": [
    "print(\"Confusion Matrix:\\n\", conf_matrix)"
   ]
  },
  {
   "cell_type": "markdown",
   "metadata": {},
   "source": [
    "### d) What are the worst and best classes in terms of precision and recall ?"
   ]
  },
  {
   "cell_type": "code",
   "execution_count": 8,
   "metadata": {},
   "outputs": [
    {
     "name": "stdout",
     "output_type": "stream",
     "text": [
      "The minimum recall is class 8 ans the maximum recall is class 1\n",
      "The minimum precision is class 5 ans the maximum precision is class 1\n",
      "F1 for each class of System A is [0.9511335012594457, 0.9682194166303876, 0.8838771593090212, 0.8720283257460798, 0.8943488943488943, 0.8366013071895425, 0.9038662486938349, 0.8949903660886319, 0.8423349699945445, 0.8599083036169131]\n"
     ]
    }
   ],
   "source": [
    "def computeAllRecall(matrix):\n",
    "    N = len(matrix)\n",
    "    recall_list = [0 for _ in range(N)]\n",
    "    for i in range(N):\n",
    "        recall_list[i] = matrix[i][i] / matrix[i].sum()\n",
    "        \n",
    "    return recall_list\n",
    "\n",
    "recall_list = computeAllRecall(conf_matrix)\n",
    "print(\"The minimum recall is class {} and the maximum recall is class {}\".format(recall_list.index(min(recall_list)),\n",
    "                                                                                recall_list.index(max(recall_list))))\n",
    "\n",
    "def computeAllClassPrecision(matrix):\n",
    "    return computeAllRecall(matrix.T)\n",
    "\n",
    "precision_list = computeAllClassPrecision(conf_matrix)\n",
    "print(\"The minimum precision is class {} and the maximum precision is class {}\".format(precision_list.index(min(precision_list)),\n",
    "                                                                                precision_list.index(max(precision_list))))\n",
    "\n",
    "def computeF1(rec_list, prec_list):\n",
    "    F1_list = [2*(prec*recall)/(prec+recall) for recall, prec in zip(rec_list, prec_list)]\n",
    "    \n",
    "    return F1_list\n",
    "\n",
    "F1_list = computeF1(recall_list, precision_list)\n",
    "print(\"F1 for each class of System A is {}\".format(F1_list))\n"
   ]
  },
  {
   "cell_type": "markdown",
   "metadata": {},
   "source": [
    "### e) In file ex1-system-b.csv you find the output of a second system B. What is the best system between (a) and (b) in terms of error rate and F1"
   ]
  },
  {
   "cell_type": "code",
   "execution_count": 9,
   "metadata": {},
   "outputs": [],
   "source": [
    "dataset = pd.read_csv('data/ex2-system-b.csv', sep=';', header=None, usecols=[x for x in range(11)])\n",
    "predC, y_truth = dataset.iloc[:,0:10], dataset[10]\n",
    "\n",
    "y_pred = predictionFromSystem(predC)\n",
    "\n",
    "conf_matrix = confusion_matrix(y_truth, y_pred)"
   ]
  },
  {
   "cell_type": "code",
   "execution_count": 10,
   "metadata": {
    "scrolled": true
   },
   "outputs": [
    {
     "name": "stdout",
     "output_type": "stream",
     "text": [
      "The error rate is 0.03869999999999996\n",
      "The minimum recall is class 5 ans the maximum recall is class 1\n",
      "The minimum precision is class 3 ans the maximum precision is class 1\n",
      "F1 for each class of System B is [0.9511335012594457, 0.9682194166303876, 0.8838771593090212, 0.8720283257460798, 0.8943488943488943, 0.8366013071895425, 0.9038662486938349, 0.8949903660886319, 0.8423349699945445, 0.8599083036169131]\n",
      "The error rate for System A is 0.10729999999999995, and for System B it's 0.03869999999999996\n",
      "The difference of F1 between the 2 systems is [0.0, 0.0, 0.0, 0.0, 0.0, 0.0, 0.0, 0.0, 0.0, 0.0]\n"
     ]
    }
   ],
   "source": [
    "overall_accuracy_b = computeOverallAccuracy(conf_matrix, len(predC))\n",
    "error_rate_b = 1 - overall_accuracy_b\n",
    "print(\"The error rate is {}\".format(error_rate_b))\n",
    "\n",
    "recall_list_b = computeAllRecall(conf_matrix)\n",
    "precision_list_b = computeAllClassPrecision(conf_matrix)\n",
    "F1_list_b = computeF1(recall_list, precision_list)\n",
    "\n",
    "print(\"The minimum recall is class {} and the maximum recall is class {}\".format(recall_list_b.index(min(recall_list_b)),\n",
    "                                                                                recall_list_b.index(max(recall_list_b))))\n",
    "print(\"The minimum precision is class {} and the maximum precision is class {}\".format(precision_list_b.index(min(precision_list_b)),\n",
    "                                                                                precision_list_b.index(max(precision_list_b))))\n",
    "print(\"F1 for each class of System B is {}\".format(F1_list_b))\n",
    "\n",
    "\n",
    "print(\"The error rate for System A is {}, and for System B it's {}\".format(error_rate, error_rate_b))\n",
    "print(\"The difference of F1 between the 2 systems is {}\".format([x-y for x,y in zip(F1_list, F1_list_b) ]))\n",
    "\n"
   ]
  },
  {
   "cell_type": "markdown",
   "metadata": {},
   "source": [
    "- We can see that System B has an error rate 3 times smaller than System A\n",
    "- The F1 value we computed for each class is the same for both systems. If it's not a mistake on our part, "
   ]
  },
  {
   "cell_type": "markdown",
   "metadata": {},
   "source": [
    "## Exercice 3 System evaluation\n",
    "\n",
    "Let’s look back at the PW02 exercise 3 of last week. We have built a knn classification systems\n",
    "for images of digits on the MNIST database.\n",
    "\n",
    "### a) How would you build a Bayesian classification for the same task ?\n",
    "\n",
    "We have these training and test sets which have 784 features for each image (28x28 pixels)\n",
    "\n",
    "We can construct a histogram for each possible couple (feature, class) (So 784 x 10 histograms). \n",
    "From them, we can compute the likelyhood P(xn|Ck) for each feature.\n",
    "That's it for the estimator. \n",
    "\n",
    "Now for any new image we want to test, we get its features, compute their P(xn|Ck) and use the naive Bayes hypothesis of feature independence to get P(X|Ck) = P(x1|Ck) · P(x2|Ck) · .. · P(x784|Ck).\n",
    "\n",
    "Because P(Ck) for any class is the same for every class, we could predict an image output simply by picking the class with the highest P(X|Ck)."
   ]
  }
 ],
 "metadata": {
  "kernelspec": {
   "display_name": "Python 3",
   "language": "python",
   "name": "python3"
  },
  "language_info": {
   "codemirror_mode": {
    "name": "ipython",
    "version": 3
   },
   "file_extension": ".py",
   "mimetype": "text/x-python",
   "name": "python",
   "nbconvert_exporter": "python",
   "pygments_lexer": "ipython3",
   "version": "3.6.5"
  }
 },
 "nbformat": 4,
 "nbformat_minor": 2
}
